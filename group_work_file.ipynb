{
 "cells": [
  {
   "cell_type": "markdown",
   "id": "e64c17ac",
   "metadata": {},
   "source": [
    "Q1. Write a loop that prompts the user to enter a series of pizza toppings until they enter a 'quit' value. As they enter each topping, print a message saying you’ll add that topping to their pizza. "
   ]
  },
  {
   "cell_type": "code",
   "execution_count": null,
   "id": "7ae8f58c",
   "metadata": {},
   "outputs": [],
   "source": [
    "topping = ''\n",
    "while topping.lower() != 'quit':\n",
    "    topping = input(\"Enter a pizza topping (type 'quit' to finish): \")\n",
    "\n",
    "    if topping.lower() == 'quit':\n",
    "        print(\"Exiting the pizza topping selection.\")\n",
    "    else:\n",
    "        print(f\"Adding {topping} to your pizza.\")\n",
    "\n",
    "print(\"Your pizza is ready!\")\n"
   ]
  },
  {
   "cell_type": "markdown",
   "id": "6d2efd7a",
   "metadata": {},
   "source": [
    "Q2. A movie theatre charges different ticket prices depending on a person’s age. If a person is under the age of 3, the ticket is free; if they are between 3 and 12, the ticket is $10; and if they are over age 12, the ticket is $15. Write a loop in which you ask users their age, and then tell them the cost of their movie ticket."
   ]
  },
  {
   "cell_type": "code",
   "execution_count": null,
   "id": "65b63082",
   "metadata": {},
   "outputs": [
    {
     "name": "stdout",
     "output_type": "stream",
     "text": [
      "Enter your age (enter -1 to exit): 6\n",
      "Your ticket costs $10.\n",
      "Enter your age (enter -1 to exit): 9898\n",
      "Your ticket costs $15.\n",
      "Enter your age (enter -1 to exit): gjhgh\n",
      "Invalid input. Please enter a valid age.\n"
     ]
    }
   ],
   "source": [
    "while True:\n",
    "    try:\n",
    "        age = int(input(\"Enter your age (enter -1 to exit): \"))\n",
    "\n",
    "        if age == -1:\n",
    "            print(\"Exiting the ticket pricing system.\")\n",
    "            break\n",
    "\n",
    "        if age < 3:\n",
    "            print(\"Your ticket is free!\")\n",
    "        elif 3 <= age <= 12:\n",
    "            print(\"Your ticket costs $10.\")\n",
    "        else:\n",
    "            print(\"Your ticket costs $15.\")\n",
    "\n",
    "    except ValueError:\n",
    "        print(\"Invalid input. Please enter a valid age.\")"
   ]
  },
  {
   "cell_type": "markdown",
   "id": "1ce696b6",
   "metadata": {},
   "source": [
    "Q3. Let's use Exercise 1 (pizza toppings) and modify it to demonstrate each of the requested variations:"
   ]
  },
  {
   "cell_type": "markdown",
   "id": "3641e858",
   "metadata": {},
   "source": [
    "1. Using a Conditional Test in the while Statement:"
   ]
  },
  {
   "cell_type": "code",
   "execution_count": null,
   "id": "6522a038",
   "metadata": {},
   "outputs": [],
   "source": [
    "topping = ''\n",
    "while topping.lower() != 'quit':\n",
    "    topping = input(\"Enter a pizza topping (type 'quit' to finish): \")\n",
    "\n",
    "    if topping.lower() != 'quit':\n",
    "        print(f\"Adding {topping} to your pizza.\")\n",
    "\n",
    "print(\"Your pizza is ready!\")"
   ]
  },
  {
   "cell_type": "markdown",
   "id": "34d33cc4",
   "metadata": {},
   "source": [
    "2. Using an Active Variable to Control the Loop:"
   ]
  },
  {
   "cell_type": "code",
   "execution_count": null,
   "id": "2d2c349c",
   "metadata": {},
   "outputs": [],
   "source": [
    "active = True\n",
    "while active:\n",
    "    topping = input(\"Enter a pizza topping (type 'quit' to finish): \")\n",
    "\n",
    "    if topping.lower() == 'quit':\n",
    "        active = False\n",
    "        print(\"Exiting the pizza topping selection.\")\n",
    "    else:\n",
    "        print(f\"Adding {topping} to your pizza.\")\n",
    "\n",
    "print(\"Your pizza is ready!\")"
   ]
  },
  {
   "cell_type": "markdown",
   "id": "3b36eacd",
   "metadata": {},
   "source": [
    "3. Using a break Statement to Exit the Loop:"
   ]
  },
  {
   "cell_type": "code",
   "execution_count": null,
   "id": "0ceb85ba",
   "metadata": {},
   "outputs": [],
   "source": [
    "while True:\n",
    "    topping = input(\"Enter a pizza topping (type 'quit' to finish): \")\n",
    "\n",
    "    if topping.lower() == 'quit':\n",
    "        print(\"Exiting the pizza topping selection.\")\n",
    "        break\n",
    "    else:\n",
    "        print(f\"Adding {topping} to your pizza.\")\n",
    "\n",
    "print(\"Your pizza is ready!\")\n"
   ]
  },
  {
   "cell_type": "markdown",
   "id": "c93c5ffa",
   "metadata": {},
   "source": [
    "Q4. Write a loop that never ends, and run it. (To end the loop, press CTRL-C or close the window displaying the output.) "
   ]
  },
  {
   "cell_type": "code",
   "execution_count": null,
   "id": "c50016b6",
   "metadata": {},
   "outputs": [],
   "source": [
    "while True:\n",
    "    print(\"This is an infinite loop. Press CTRL-C to end it.\")"
   ]
  },
  {
   "cell_type": "markdown",
   "id": "77b28f77",
   "metadata": {},
   "source": [
    "Q5.Make a list called sandwich_orders and fill it with the names of various sandwiches. Then make an empty list called finished_sandwiches. Loop through the list of sandwich orders and print a message for each order, such as I made your tuna sandwich. As each sandwich is made, move it to the list of finished sandwiches. After all the sandwiches have been made, print a message listing each sandwich that was made."
   ]
  },
  {
   "cell_type": "code",
   "execution_count": null,
   "id": "d0cd9b99",
   "metadata": {},
   "outputs": [],
   "source": [
    "sandwich_orders = ['tuna', 'club', 'veggie', 'chicken', 'turkey']\n",
    "finished_sandwiches = []\n",
    "while sandwich_orders:\n",
    "    current_order = sandwich_orders.pop(0)\n",
    "    print(f\"I made your {current_order} sandwich.\")\n",
    "    finished_sandwiches.append(current_order)\n",
    "print(\"\\nList of finished sandwiches:\")\n",
    "for sandwich in finished_sandwiches:\n",
    "    print(f\"- {sandwich.capitalize()} sandwich\")\n"
   ]
  }
 ],
 "metadata": {
  "kernelspec": {
   "display_name": "Python 3 (ipykernel)",
   "language": "python",
   "name": "python3"
  },
  "language_info": {
   "codemirror_mode": {
    "name": "ipython",
    "version": 3
   },
   "file_extension": ".py",
   "mimetype": "text/x-python",
   "name": "python",
   "nbconvert_exporter": "python",
   "pygments_lexer": "ipython3",
   "version": "3.10.9"
  }
 },
 "nbformat": 4,
 "nbformat_minor": 5
}
